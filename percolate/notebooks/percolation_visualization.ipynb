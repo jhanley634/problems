{
 "cells": [
  {
   "cell_type": "code",
   "execution_count": null,
   "id": "43ecbeaf",
   "metadata": {},
   "outputs": [],
   "source": [
    "%matplotlib inline\n",
    "import matplotlib.pyplot as plt\n",
    "import networkit as nk\n",
    "\n",
    "from percolate.two_d_percolation import Perc\n",
    "\n",
    "p = Perc(3, 4)\n",
    "core_dec = nk.centrality.CoreDecomposition(p.g)\n",
    "core_dec.run()\n",
    "set(core_dec.scores())\n",
    "nk.viztasks.drawGraph(p.g)"
   ]
  },
  {
   "cell_type": "code",
   "execution_count": null,
   "id": "1675f8f6",
   "metadata": {},
   "outputs": [],
   "source": [
    "nk.viztasks.drawGraph(p.g, node_size=[(k**2) * 20 for k in core_dec.scores()])\n",
    "plt.show()"
   ]
  },
  {
   "cell_type": "code",
   "execution_count": null,
   "id": "a1b431ee",
   "metadata": {},
   "outputs": [],
   "source": [
    "import matplotlib.pyplot as plt\n",
    "\n",
    "plt.ion()"
   ]
  },
  {
   "cell_type": "code",
   "execution_count": null,
   "id": "14784b4f",
   "metadata": {},
   "outputs": [],
   "source": [
    "p.plot()"
   ]
  },
  {
   "cell_type": "code",
   "execution_count": null,
   "id": "8c4963c5",
   "metadata": {},
   "outputs": [],
   "source": []
  }
 ],
 "metadata": {
  "kernelspec": {
   "display_name": "Python 3 (ipykernel)",
   "language": "python",
   "name": "python3"
  },
  "language_info": {
   "codemirror_mode": {
    "name": "ipython",
    "version": 3
   },
   "file_extension": ".py",
   "mimetype": "text/x-python",
   "name": "python",
   "nbconvert_exporter": "python",
   "pygments_lexer": "ipython3",
   "version": "3.9.7"
  }
 },
 "nbformat": 4,
 "nbformat_minor": 5
}
